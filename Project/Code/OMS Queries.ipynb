{
 "metadata": {
  "name": "",
  "signature": "sha256:6047f448cc90d9090adc640269ed0545d2b6760dba74b410f2a25da431ceadb6"
 },
 "nbformat": 3,
 "nbformat_minor": 0,
 "worksheets": [
  {
   "cells": [
    {
     "cell_type": "code",
     "collapsed": false,
     "input": [
      "\n",
      "import pymongo as pym\n",
      "doc = 'interpreterea6ad75d'\n",
      "path = 'G://Training//Data Analyst//Data Wrangling With Mongo DB//Final Project//Data//'\n",
      "import pprint\n",
      "import xml.etree.ElementTree as ET\n",
      "import pprint\n",
      "import re\n",
      "import codecs\n",
      "import json\n",
      "import pymongo as pym\n",
      "import sys    # sys.setdefaultencoding is cancelled by site.py\n",
      "reload(sys)    # to re-enable sys.setdefaultencoding()\n",
      "sys.setdefaultencoding('utf-8')\n",
      "doc = 'interpreterea6ad75d'\n",
      "path = 'G://Training//Data Analyst//Data Wrangling With Mongo DB//Final Project//Data//'\n",
      "dbase = 'OSM'\n",
      "client = pym.MongoClient()\n",
      "db =  client.OMS.interpreterea6ad75d\n",
      "\n"
     ],
     "language": "python",
     "metadata": {},
     "outputs": [],
     "prompt_number": 5
    },
    {
     "cell_type": "markdown",
     "metadata": {},
     "source": []
    },
    {
     "cell_type": "code",
     "collapsed": false,
     "input": [
      "\n",
      "def read_count(_id,data):\n",
      "    for u in data:\n",
      "        if u['_id'] == _id :\n",
      "            if u['count'] != None:\n",
      "                return u['count']\n",
      "            else:\n",
      "                return 0\n",
      "## Get top X users, who have had values assessed        \n",
      "def get_top_corrections(field,limit):\n",
      "    top_users = None\n",
      "    true_users  = None\n",
      "    top_users = db.aggregate([\n",
      "        {\n",
      "            '$match':{field:{'$in':[True,False]}}\n",
      "        },\n",
      "        {\n",
      "            '$group':{'_id':'$created.user','count':{'$sum':1}}\n",
      "        },\n",
      "        {\n",
      "            '$sort':{'count':-1}\n",
      "        },\n",
      "        {\n",
      "            '$limit':limit\n",
      "        },\n",
      "    ])\n",
      "#Out of the top user get a list of users who have had thier values updated\n",
      "    true_users = db.aggregate([\n",
      "        {\n",
      "            '$match':{\n",
      "                'created.user':{'$in':map(lambda user : user['_id'], top_users['result'])},\n",
      "                field:True\n",
      "            }\n",
      "        },\n",
      "        {\n",
      "            '$group':{\n",
      "                '_id':'$created.user','count':{'$sum':1}\n",
      "            }\n",
      "        }\n",
      "    ])\n",
      "#Out of the users whos values have been corrected. What porportaion of the total have been corrected\n",
      "    return  sorted(\n",
      "                list(\n",
      "                    map(\n",
      "                        lambda user : [\n",
      "                            user[0],\n",
      "                            float(user[1]),\n",
      "                            float(user[2]),\n",
      "                            round(float(user[2])/float(user[1]),2)\n",
      "                        ]\n",
      "                        ,map(\n",
      "                            lambda user : [\n",
      "                                user['_id'],\n",
      "                                read_count(user['_id'],top_users['result']),\n",
      "                                user['count'],\n",
      "\n",
      "                            ],\n",
      "                            true_users['result']\n",
      "                        )\n",
      "                    )\n",
      "                ),\n",
      "                key = lambda k : k[3],\n",
      "                reverse=True\n",
      "                \n",
      "            )\n"
     ],
     "language": "python",
     "metadata": {},
     "outputs": [],
     "prompt_number": 6
    },
    {
     "cell_type": "code",
     "collapsed": false,
     "input": [
      "\n",
      "#get_top_corrections('address.street',100)\n",
      "\n",
      "map(lambda x : 'User:{0} Total:{1} Corrected:{2} Ratio:{3}'.format(x[0],x[1],x[2],x[3]),get_top_corrections('phone',10))"
     ],
     "language": "python",
     "metadata": {},
     "outputs": [
      {
       "metadata": {},
       "output_type": "pyout",
       "prompt_number": 16,
       "text": [
        "['User:JacoS Total:22.0 Corrected:22.0 Ratio:1.0',\n",
        " 'User:Werner RSA Total:3.0 Corrected:3.0 Ratio:1.0',\n",
        " 'User:Tinshack Total:3.0 Corrected:3.0 Ratio:1.0',\n",
        " 'User:Firefishy Total:32.0 Corrected:29.0 Ratio:0.91',\n",
        " 'User:Andreas Pauley Total:8.0 Corrected:6.0 Ratio:0.75',\n",
        " 'User:adjuva Total:7.0 Corrected:5.0 Ratio:0.71',\n",
        " 'User:unbeZAhlbar Total:4.0 Corrected:2.0 Ratio:0.5',\n",
        " 'User:airopixel Total:17.0 Corrected:1.0 Ratio:0.06']"
       ]
      }
     ],
     "prompt_number": 16
    },
    {
     "cell_type": "code",
     "collapsed": false,
     "input": [
      "# print db.find().count()\n",
      "print db.find({'type':'way'}).count()\n",
      "print db.find({'type':'node'}).count()\n",
      "#print len(db.distinct(\"created.user\"))\n",
      "#print db.find({\"amenity\":\"fuel\"}).count()\n"
     ],
     "language": "python",
     "metadata": {},
     "outputs": [],
     "prompt_number": 23
    },
    {
     "cell_type": "code",
     "collapsed": false,
     "input": [
      "db.aggregate([\n",
      "    {\n",
      "            '$match':{'fuel':'Sasol'}\n",
      "        },\n",
      "        {\n",
      "            '$group':{'_id':'$created.user','count':{'$sum':1}}\n",
      "        }\n",
      "])"
     ],
     "language": "python",
     "metadata": {},
     "outputs": [
      {
       "metadata": {},
       "output_type": "pyout",
       "prompt_number": 27,
       "text": [
        "{u'ok': 1.0, u'result': []}"
       ]
      }
     ],
     "prompt_number": 27
    },
    {
     "cell_type": "code",
     "collapsed": false,
     "input": [
      " db.find_one({\"created.user\":\"Firefishy\"})"
     ],
     "language": "python",
     "metadata": {},
     "outputs": [],
     "prompt_number": 17
    }
   ],
   "metadata": {}
  }
 ]
}